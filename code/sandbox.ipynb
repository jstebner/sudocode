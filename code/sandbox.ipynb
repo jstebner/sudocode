{
 "cells": [
  {
   "cell_type": "code",
   "execution_count": 2,
   "metadata": {},
   "outputs": [],
   "source": [
    "from utils import *\n",
    "from solvers import *"
   ]
  },
  {
   "cell_type": "code",
   "execution_count": 5,
   "metadata": {},
   "outputs": [
    {
     "name": "stdout",
     "output_type": "stream",
     "text": [
      "  8     2        \n",
      "  6       9      \n",
      "9         8 3 1  \n",
      "2 3              \n",
      "4       5        \n",
      "    9       5 4  \n",
      "        3 7 1    \n",
      "        8 4      \n",
      "      6          \n"
     ]
    }
   ],
   "source": [
    "pzl = '0 8 0 0 2 0 0 0 0 0 6 0 0 0 9 0 0 0 9 0 0 0 0 8 3 1 0 2 3 0 0 0 0 0 0 0 4 0 0 0 5 0 0 0 0 0 0 9 0 0 0 5 4 0 0 0 0 0 3 7 1 0 0 0 0 0 0 8 4 0 0 0 0 0 0 6 0 0 0 0 0'\n",
    "pzl = matrixify(pzl)\n",
    "\n",
    "pretty_print(pzl)"
   ]
  },
  {
   "cell_type": "code",
   "execution_count": 10,
   "metadata": {},
   "outputs": [
    {
     "name": "stdout",
     "output_type": "stream",
     "text": [
      "      {1, 3, 5, 7}                  8       {1, 3, 4, 7}    {1, 3, 4, 5, 7}                  2                  6          {9, 4, 7}          {9, 5, 7}       {9, 4, 5, 7}\n",
      "      {1, 3, 5, 7}                  6    {1, 2, 3, 4, 7}    {1, 3, 4, 5, 7}          {1, 4, 7}                  9       {8, 2, 4, 7}       {8, 2, 5, 7}    {2, 4, 5, 7, 8}\n",
      "                 9          {2, 4, 5}          {2, 4, 7}          {4, 5, 7}             {4, 7}                  8                  3                  1                  6\n",
      "                 2                  3                  5       {8, 9, 4, 7}          {9, 4, 7}                  1       {8, 9, 6, 7}       {8, 9, 6, 7}          {8, 9, 7}\n",
      "                 4                  1                  6          {8, 9, 7}                  5             {2, 3}       {8, 9, 2, 7}    {2, 3, 7, 8, 9}    {2, 3, 7, 8, 9}\n",
      "                 8                  7                  9              set()                  6             {2, 3}                  5                  4                  1\n",
      "            {5, 6}       {9, 2, 4, 5}          {8, 2, 4}             {9, 2}                  3                  7                  1    {2, 5, 6, 8, 9}    {2, 4, 5, 8, 9}\n",
      "   {1, 3, 5, 6, 7}          {9, 2, 5}       {1, 2, 3, 7}          {1, 2, 9}                  8                  4       {9, 2, 6, 7} {2, 3, 5, 6, 7, 9}    {2, 3, 5, 7, 9}\n",
      "         {1, 3, 7}          {9, 2, 4} {1, 2, 3, 4, 7, 8}                  6             {1, 9}                  5    {2, 4, 7, 8, 9}    {2, 3, 7, 8, 9} {2, 3, 4, 7, 8, 9}\n"
     ]
    }
   ],
   "source": [
    "time, recs = solve(\"cp\", pzl)\n",
    "pretty_print(pzl)"
   ]
  }
 ],
 "metadata": {
  "kernelspec": {
   "display_name": "Python 3.11.0 64-bit",
   "language": "python",
   "name": "python3"
  },
  "language_info": {
   "codemirror_mode": {
    "name": "ipython",
    "version": 3
   },
   "file_extension": ".py",
   "mimetype": "text/x-python",
   "name": "python",
   "nbconvert_exporter": "python",
   "pygments_lexer": "ipython3",
   "version": "3.11.0"
  },
  "orig_nbformat": 4,
  "vscode": {
   "interpreter": {
    "hash": "11c9a8d9d183678ada4733d405ee5173ac35a7c5e5bcce99b2c90cd82f22ae56"
   }
  }
 },
 "nbformat": 4,
 "nbformat_minor": 2
}
