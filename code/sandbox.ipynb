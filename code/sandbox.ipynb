{
 "cells": [
  {
   "cell_type": "markdown",
   "metadata": {},
   "source": [
    "make sure below says its in sudocode dir"
   ]
  },
  {
   "cell_type": "code",
   "execution_count": 1,
   "metadata": {},
   "outputs": [
    {
     "name": "stdout",
     "output_type": "stream",
     "text": [
      "c:\\Users\\jsteb\\sudocode\n"
     ]
    }
   ],
   "source": [
    "import os\n",
    "os.chdir(os.path.join(os.getcwd(),'..'))\n",
    "print(os.getcwd())"
   ]
  },
  {
   "cell_type": "code",
   "execution_count": 2,
   "metadata": {},
   "outputs": [],
   "source": [
    "from utils import *\n",
    "from solvers import *\n",
    "import os\n",
    "import pandas as pd\n",
    "from datetime import datetime\n",
    "def get_time():\n",
    "    return datetime.now().strftime(\"%m/%d/%Y %H:%M:%S.%f\")"
   ]
  },
  {
   "cell_type": "code",
   "execution_count": 3,
   "metadata": {},
   "outputs": [
    {
     "name": "stdout",
     "output_type": "stream",
     "text": [
      "11040\n"
     ]
    }
   ],
   "source": [
    "data = pd.concat([\n",
    "    pd.read_csv('data/n2.csv'),\n",
    "    pd.read_csv('data/n3.csv'),\n",
    "    pd.read_csv('data/n4.csv')\n",
    "], ignore_index=True)\n",
    "\n",
    "print(len(data))"
   ]
  },
  {
   "cell_type": "code",
   "execution_count": 4,
   "metadata": {},
   "outputs": [
    {
     "name": "stdout",
     "output_type": "stream",
     "text": [
      "2991\n"
     ]
    }
   ],
   "source": [
    "last_idx = len(pd.read_csv('out/results.csv'))\n",
    "print(last_idx)"
   ]
  },
  {
   "cell_type": "code",
   "execution_count": 20,
   "metadata": {},
   "outputs": [
    {
     "name": "stdout",
     "output_type": "stream",
     "text": [
      "n                                                      3\n",
      "k                                                     63\n",
      "pzl    1 0 4 2 0 5 0 0 0 0 0 0 0 0 9 0 0 0 0 9 0 8 0 ...\n",
      "Name: 2991, dtype: object\n"
     ]
    },
    {
     "data": {
      "text/plain": [
       "(True, 46875000, 24, 434782)"
      ]
     },
     "execution_count": 20,
     "metadata": {},
     "output_type": "execute_result"
    }
   ],
   "source": [
    "print(data.iloc[last_idx])\n",
    "solve('cp', matrixify(data.iloc[last_idx]['pzl']))"
   ]
  },
  {
   "cell_type": "markdown",
   "metadata": {},
   "source": [
    "runs tests (took X time)"
   ]
  },
  {
   "cell_type": "code",
   "execution_count": null,
   "metadata": {},
   "outputs": [],
   "source": [
    "# cols = ['n','k','pzl','bt_valid','bt_time_ns','bt_recs','bt_space_B','cp_valid','cp_time_ns','cp_recs','cp_space_B']\n",
    "# with open('out/results.csv', 'a') as file:\n",
    "#     for i, row in data.iterrows():\n",
    "#         res_row = [*row]\n",
    "#         for mthd in ['bt','cp']:\n",
    "#             pzl = matrixify(row['pzl'])\n",
    "#             out = solve(mthd, pzl)\n",
    "#             res_row += [*out]\n",
    "#         print(f'{get_time()}: finished {i} ({row[\"n\"]}-{row[\"k\"]})')\n",
    "#         file.writelines(','.join(list(map(lambda x: str(x), res_row)))+'\\n')"
   ]
  }
 ],
 "metadata": {
  "kernelspec": {
   "display_name": "Python 3.11.0 64-bit",
   "language": "python",
   "name": "python3"
  },
  "language_info": {
   "codemirror_mode": {
    "name": "ipython",
    "version": 3
   },
   "file_extension": ".py",
   "mimetype": "text/x-python",
   "name": "python",
   "nbconvert_exporter": "python",
   "pygments_lexer": "ipython3",
   "version": "3.11.0"
  },
  "orig_nbformat": 4,
  "vscode": {
   "interpreter": {
    "hash": "11c9a8d9d183678ada4733d405ee5173ac35a7c5e5bcce99b2c90cd82f22ae56"
   }
  }
 },
 "nbformat": 4,
 "nbformat_minor": 2
}
