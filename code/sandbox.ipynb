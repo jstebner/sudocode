{
 "cells": [
  {
   "cell_type": "code",
   "execution_count": 22,
   "metadata": {},
   "outputs": [],
   "source": [
    "from utils import *\n",
    "from solvers import *"
   ]
  },
  {
   "cell_type": "code",
   "execution_count": 23,
   "metadata": {},
   "outputs": [
    {
     "name": "stdout",
     "output_type": "stream",
     "text": [
      "  8     2        \n",
      "  6       9      \n",
      "9         8 3 1  \n",
      "2 3              \n",
      "4       5        \n",
      "    9       5 4  \n",
      "        3 7 1    \n",
      "        8 4      \n",
      "      6          \n"
     ]
    }
   ],
   "source": [
    "pzl = '0 8 0 0 2 0 0 0 0 0 6 0 0 0 9 0 0 0 9 0 0 0 0 8 3 1 0 2 3 0 0 0 0 0 0 0 4 0 0 0 5 0 0 0 0 0 0 9 0 0 0 5 4 0 0 0 0 0 3 7 1 0 0 0 0 0 0 8 4 0 0 0 0 0 0 6 0 0 0 0 0'\n",
    "pzl = matrixify(pzl)\n",
    "\n",
    "pretty_print(pzl)"
   ]
  },
  {
   "cell_type": "code",
   "execution_count": 24,
   "metadata": {},
   "outputs": [
    {
     "name": "stdout",
     "output_type": "stream",
     "text": [
      "1 8 3 4 2 5 6 7 9\n",
      "5 6 7 3 1 9 2 8 4\n",
      "9 2 4 7 6 8 3 1 5\n",
      "2 3 5 8 4 1 9 6 7\n",
      "4 7 6 9 5 3 8 2 1\n",
      "8 1 9 2 7 6 5 4 3\n",
      "6 4 8 5 3 7 1 9 2\n",
      "3 9 2 1 8 4 7 5 6\n",
      "7 5 1 6 9 2 4 3 8\n"
     ]
    }
   ],
   "source": [
    "time, recs = solve(\"bt\", pzl)\n",
    "pretty_print(pzl)"
   ]
  }
 ],
 "metadata": {
  "kernelspec": {
   "display_name": "Python 3.11.0 64-bit",
   "language": "python",
   "name": "python3"
  },
  "language_info": {
   "codemirror_mode": {
    "name": "ipython",
    "version": 3
   },
   "file_extension": ".py",
   "mimetype": "text/x-python",
   "name": "python",
   "nbconvert_exporter": "python",
   "pygments_lexer": "ipython3",
   "version": "3.11.0"
  },
  "orig_nbformat": 4,
  "vscode": {
   "interpreter": {
    "hash": "11c9a8d9d183678ada4733d405ee5173ac35a7c5e5bcce99b2c90cd82f22ae56"
   }
  }
 },
 "nbformat": 4,
 "nbformat_minor": 2
}
